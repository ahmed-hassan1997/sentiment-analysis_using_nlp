{
  "nbformat": 4,
  "nbformat_minor": 0,
  "metadata": {
    "colab": {
      "name": "Sentiment analysis.ipynb",
      "provenance": [],
      "collapsed_sections": [],
      "toc_visible": true
    },
    "kernelspec": {
      "name": "python3",
      "display_name": "Python 3"
    }
  },
  "cells": [
    {
      "cell_type": "markdown",
      "metadata": {
        "id": "ndwPthBYU20C",
        "colab_type": "text"
      },
      "source": [
        "## link dataset from kaggle \n",
        "\n",
        "<a href = \"https://www.kaggle.com/columbine/imdb-dataset-sentiment-analysis-in-csv-format\"> dataset </a> \n",
        "\n",
        "<a href = \"https://www.kaggle.com/lakshmi25npathi/sentiment-analysis-of-imdb-movie-reviews\"> project on kaggle </a>\n",
        "\n",
        "<a href = \"https://www.kaggle.com/anindya2906/glove6b?select=glove.6B.50d.txt\"> glove </a>"
      ]
    },
    {
      "cell_type": "code",
      "metadata": {
        "id": "d4kDzvQzU87v",
        "colab_type": "code",
        "colab": {
          "base_uri": "https://localhost:8080/",
          "height": 243
        },
        "outputId": "45ab4267-3989-4022-cefa-d1e94352c75d"
      },
      "source": [
        "!pip install kaggle"
      ],
      "execution_count": 2,
      "outputs": [
        {
          "output_type": "stream",
          "text": [
            "Requirement already satisfied: kaggle in /usr/local/lib/python3.6/dist-packages (1.5.6)\n",
            "Requirement already satisfied: requests in /usr/local/lib/python3.6/dist-packages (from kaggle) (2.23.0)\n",
            "Requirement already satisfied: urllib3<1.25,>=1.21.1 in /usr/local/lib/python3.6/dist-packages (from kaggle) (1.24.3)\n",
            "Requirement already satisfied: tqdm in /usr/local/lib/python3.6/dist-packages (from kaggle) (4.41.1)\n",
            "Requirement already satisfied: python-slugify in /usr/local/lib/python3.6/dist-packages (from kaggle) (4.0.1)\n",
            "Requirement already satisfied: certifi in /usr/local/lib/python3.6/dist-packages (from kaggle) (2020.6.20)\n",
            "Requirement already satisfied: python-dateutil in /usr/local/lib/python3.6/dist-packages (from kaggle) (2.8.1)\n",
            "Requirement already satisfied: six>=1.10 in /usr/local/lib/python3.6/dist-packages (from kaggle) (1.15.0)\n",
            "Requirement already satisfied: idna<3,>=2.5 in /usr/local/lib/python3.6/dist-packages (from requests->kaggle) (2.10)\n",
            "Requirement already satisfied: chardet<4,>=3.0.2 in /usr/local/lib/python3.6/dist-packages (from requests->kaggle) (3.0.4)\n",
            "Requirement already satisfied: text-unidecode>=1.3 in /usr/local/lib/python3.6/dist-packages (from python-slugify->kaggle) (1.3)\n"
          ],
          "name": "stdout"
        }
      ]
    },
    {
      "cell_type": "code",
      "metadata": {
        "id": "4NwAUHXOzmoK",
        "colab_type": "code",
        "colab": {
          "resources": {
            "http://localhost:8080/nbextensions/google.colab/files.js": {
              "data": "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",
              "ok": true,
              "headers": [
                [
                  "content-type",
                  "application/javascript"
                ]
              ],
              "status": 200,
              "status_text": "OK"
            }
          },
          "base_uri": "https://localhost:8080/",
          "height": 94
        },
        "outputId": "67a54b1f-52ae-4e40-d18e-7cb080505e98"
      },
      "source": [
        "from google.colab import files \n",
        "files.upload()"
      ],
      "execution_count": 3,
      "outputs": [
        {
          "output_type": "display_data",
          "data": {
            "text/html": [
              "\n",
              "     <input type=\"file\" id=\"files-ae102e01-5079-4542-abb4-cadfd61b6113\" name=\"files[]\" multiple disabled\n",
              "        style=\"border:none\" />\n",
              "     <output id=\"result-ae102e01-5079-4542-abb4-cadfd61b6113\">\n",
              "      Upload widget is only available when the cell has been executed in the\n",
              "      current browser session. Please rerun this cell to enable.\n",
              "      </output>\n",
              "      <script src=\"/nbextensions/google.colab/files.js\"></script> "
            ],
            "text/plain": [
              "<IPython.core.display.HTML object>"
            ]
          },
          "metadata": {
            "tags": []
          }
        },
        {
          "output_type": "stream",
          "text": [
            "Saving kaggle.json to kaggle.json\n"
          ],
          "name": "stdout"
        },
        {
          "output_type": "execute_result",
          "data": {
            "text/plain": [
              "{'kaggle.json': b'{\"username\":\"ahmedhassan97\",\"key\":\"058bbe8a6ce8911ae383cca87a041bf0\"}'}"
            ]
          },
          "metadata": {
            "tags": []
          },
          "execution_count": 3
        }
      ]
    },
    {
      "cell_type": "code",
      "metadata": {
        "id": "jakNVVDcaeBM",
        "colab_type": "code",
        "colab": {
          "base_uri": "https://localhost:8080/",
          "height": 36
        },
        "outputId": "594b969f-4e34-496e-dd9f-e9cf12d89f7e"
      },
      "source": [
        "!pip install -q kaggle\n",
        "!mkdir -p ~/.kaggle\n",
        "!cp kaggle.json ~/.kaggle/\n",
        "!ls ~/.kaggle\n",
        "!chmod 600 /root/.kaggle/kaggle.json"
      ],
      "execution_count": 4,
      "outputs": [
        {
          "output_type": "stream",
          "text": [
            "kaggle.json\n"
          ],
          "name": "stdout"
        }
      ]
    },
    {
      "cell_type": "code",
      "metadata": {
        "id": "ITfCAKr9aijv",
        "colab_type": "code",
        "colab": {
          "base_uri": "https://localhost:8080/",
          "height": 73
        },
        "outputId": "692800b9-e852-45a7-9e5b-c4fe33b012da"
      },
      "source": [
        "!kaggle datasets download -d lakshmi25npathi/imdb-dataset-of-50k-movie-reviews"
      ],
      "execution_count": 5,
      "outputs": [
        {
          "output_type": "stream",
          "text": [
            "Downloading imdb-dataset-of-50k-movie-reviews.zip to /content\n",
            " 35% 9.00M/25.7M [00:00<00:00, 37.9MB/s]\n",
            "100% 25.7M/25.7M [00:00<00:00, 73.9MB/s]\n"
          ],
          "name": "stdout"
        }
      ]
    },
    {
      "cell_type": "code",
      "metadata": {
        "id": "RVWRZW17b-8q",
        "colab_type": "code",
        "colab": {}
      },
      "source": [
        "!unzip -q data.zip "
      ],
      "execution_count": 6,
      "outputs": []
    },
    {
      "cell_type": "markdown",
      "metadata": {
        "id": "RHzNc_F5cen4",
        "colab_type": "text"
      },
      "source": [
        "## import important libraries which you used"
      ]
    },
    {
      "cell_type": "code",
      "metadata": {
        "id": "j4Ei4mulcctD",
        "colab_type": "code",
        "colab": {
          "base_uri": "https://localhost:8080/",
          "height": 74
        },
        "outputId": "8852b06e-bbe2-40b6-8357-0f4dc846069d"
      },
      "source": [
        "import numpy as np\n",
        "import pandas as pd \n",
        "import matplotlib.pyplot as plt\n",
        "import seaborn as sns\n",
        "import re\n",
        "import nltk\n",
        "from nltk.corpus import stopwords\n",
        "from keras.preprocessing.text import one_hot\n",
        "from keras.preprocessing.sequence import pad_sequences\n",
        "from keras.models import Sequential\n",
        "from keras.layers.core import Activation,Dense,Dropout\n",
        "from keras.layers import Flatten\n",
        "from keras.layers import GlobalMaxPooling1D\n",
        "from keras.layers.embeddings import Embedding\n",
        "from sklearn.model_selection import train_test_split\n",
        "from keras.preprocessing.text import Tokenizer\n",
        "from wordcloud import WordCloud,STOPWORDS\n",
        "from nltk.tokenize import word_tokenize \n",
        "from nltk.tokenize.toktok import ToktokTokenizer"
      ],
      "execution_count": 1,
      "outputs": [
        {
          "output_type": "stream",
          "text": [
            "/usr/local/lib/python3.6/dist-packages/statsmodels/tools/_testing.py:19: FutureWarning: pandas.util.testing is deprecated. Use the functions in the public API at pandas.testing instead.\n",
            "  import pandas.util.testing as tm\n"
          ],
          "name": "stderr"
        }
      ]
    },
    {
      "cell_type": "code",
      "metadata": {
        "id": "QZR-HxzGqCk6",
        "colab_type": "code",
        "colab": {
          "base_uri": "https://localhost:8080/",
          "height": 73
        },
        "outputId": "39ac1db5-aee8-47a3-fc7f-e856d9e317d2"
      },
      "source": [
        "nltk.download('punkt')"
      ],
      "execution_count": 2,
      "outputs": [
        {
          "output_type": "stream",
          "text": [
            "[nltk_data] Downloading package punkt to /root/nltk_data...\n",
            "[nltk_data]   Package punkt is already up-to-date!\n"
          ],
          "name": "stdout"
        },
        {
          "output_type": "execute_result",
          "data": {
            "text/plain": [
              "True"
            ]
          },
          "metadata": {
            "tags": []
          },
          "execution_count": 2
        }
      ]
    },
    {
      "cell_type": "code",
      "metadata": {
        "id": "vPVuHmTIe8y_",
        "colab_type": "code",
        "colab": {
          "base_uri": "https://localhost:8080/",
          "height": 112
        },
        "outputId": "c93fb4a9-63c7-4c07-d654-a9ddc61ffd0f"
      },
      "source": [
        "df = pd.read_csv('data.csv')\n",
        "df.head(2)"
      ],
      "execution_count": 3,
      "outputs": [
        {
          "output_type": "execute_result",
          "data": {
            "text/html": [
              "<div>\n",
              "<style scoped>\n",
              "    .dataframe tbody tr th:only-of-type {\n",
              "        vertical-align: middle;\n",
              "    }\n",
              "\n",
              "    .dataframe tbody tr th {\n",
              "        vertical-align: top;\n",
              "    }\n",
              "\n",
              "    .dataframe thead th {\n",
              "        text-align: right;\n",
              "    }\n",
              "</style>\n",
              "<table border=\"1\" class=\"dataframe\">\n",
              "  <thead>\n",
              "    <tr style=\"text-align: right;\">\n",
              "      <th></th>\n",
              "      <th>review</th>\n",
              "      <th>sentiment</th>\n",
              "    </tr>\n",
              "  </thead>\n",
              "  <tbody>\n",
              "    <tr>\n",
              "      <th>0</th>\n",
              "      <td>One of the other reviewers has mentioned that ...</td>\n",
              "      <td>positive</td>\n",
              "    </tr>\n",
              "    <tr>\n",
              "      <th>1</th>\n",
              "      <td>A wonderful little production. &lt;br /&gt;&lt;br /&gt;The...</td>\n",
              "      <td>positive</td>\n",
              "    </tr>\n",
              "  </tbody>\n",
              "</table>\n",
              "</div>"
            ],
            "text/plain": [
              "                                              review sentiment\n",
              "0  One of the other reviewers has mentioned that ...  positive\n",
              "1  A wonderful little production. <br /><br />The...  positive"
            ]
          },
          "metadata": {
            "tags": []
          },
          "execution_count": 3
        }
      ]
    },
    {
      "cell_type": "code",
      "metadata": {
        "id": "Prv2ix0mfFan",
        "colab_type": "code",
        "colab": {
          "base_uri": "https://localhost:8080/",
          "height": 224
        },
        "outputId": "e1e0fde4-17d5-458f-d313-18c9258ed33d"
      },
      "source": [
        "df['review'][4]"
      ],
      "execution_count": 4,
      "outputs": [
        {
          "output_type": "execute_result",
          "data": {
            "application/vnd.google.colaboratory.intrinsic+json": {
              "type": "string"
            },
            "text/plain": [
              "'Petter Mattei\\'s \"Love in the Time of Money\" is a visually stunning film to watch. Mr. Mattei offers us a vivid portrait about human relations. This is a movie that seems to be telling us what money, power and success do to people in the different situations we encounter. <br /><br />This being a variation on the Arthur Schnitzler\\'s play about the same theme, the director transfers the action to the present time New York where all these different characters meet and connect. Each one is connected in one way, or another to the next person, but no one seems to know the previous point of contact. Stylishly, the film has a sophisticated luxurious look. We are taken to see how these people live and the world they live in their own habitat.<br /><br />The only thing one gets out of all these souls in the picture is the different stages of loneliness each one inhabits. A big city is not exactly the best place in which human relations find sincere fulfillment, as one discerns is the case with most of the people we encounter.<br /><br />The acting is good under Mr. Mattei\\'s direction. Steve Buscemi, Rosario Dawson, Carol Kane, Michael Imperioli, Adrian Grenier, and the rest of the talented cast, make these characters come alive.<br /><br />We wish Mr. Mattei good luck and await anxiously for his next work.'"
            ]
          },
          "metadata": {
            "tags": []
          },
          "execution_count": 4
        }
      ]
    },
    {
      "cell_type": "code",
      "metadata": {
        "id": "8bh8tUxVfOXF",
        "colab_type": "code",
        "colab": {
          "base_uri": "https://localhost:8080/",
          "height": 318
        },
        "outputId": "9b76b844-d341-4895-c3f6-c087a34dcff4"
      },
      "source": [
        "df.sentiment.value_counts().plot(kind = 'bar' , color = 'green')"
      ],
      "execution_count": 5,
      "outputs": [
        {
          "output_type": "execute_result",
          "data": {
            "text/plain": [
              "<matplotlib.axes._subplots.AxesSubplot at 0x7f40386ef940>"
            ]
          },
          "metadata": {
            "tags": []
          },
          "execution_count": 5
        },
        {
          "output_type": "display_data",
          "data": {
            "image/png": "[encoded data removed]",
            "text/plain": [
              "<Figure size 432x288 with 1 Axes>"
            ]
          },
          "metadata": {
            "tags": [],
            "needs_background": "light"
          }
        }
      ]
    },
    {
      "cell_type": "markdown",
      "metadata": {
        "id": "G5Af9wAog2xq",
        "colab_type": "text"
      },
      "source": [
        "## check if data is null"
      ]
    },
    {
      "cell_type": "code",
      "metadata": {
        "id": "zBFiYex1g7wK",
        "colab_type": "code",
        "colab": {
          "base_uri": "https://localhost:8080/",
          "height": 73
        },
        "outputId": "cea27a48-dca5-47ae-dab7-0ca430f4f61c"
      },
      "source": [
        "df.isnull().sum()"
      ],
      "execution_count": 6,
      "outputs": [
        {
          "output_type": "execute_result",
          "data": {
            "text/plain": [
              "review       0\n",
              "sentiment    0\n",
              "dtype: int64"
            ]
          },
          "metadata": {
            "tags": []
          },
          "execution_count": 6
        }
      ]
    },
    {
      "cell_type": "markdown",
      "metadata": {
        "id": "GI-CEkBghEzN",
        "colab_type": "text"
      },
      "source": [
        "## clean data \n",
        "- remove html tag\n",
        "- remove punctution\n",
        "- remove any character outside[a-z , A-Z,0-9]"
      ]
    },
    {
      "cell_type": "code",
      "metadata": {
        "id": "xONtISarhDEP",
        "colab_type": "code",
        "colab": {}
      },
      "source": [
        "## remove html tag\n",
        "def remove_html_tag(text):\n",
        "  cleanr = re.compile('<.*?>')\n",
        "  cleantext = re.sub(cleanr, '', text)\n",
        "  return cleantext\n",
        "\n",
        "## remove punct\n",
        "def remove_puct(text):\n",
        "  clean = re.sub(r'[^\\w\\s]','',text) \n",
        "  return clean \n",
        "\n",
        "## remove number\n",
        "def remove_number(text):\n",
        "  clean = re.sub(r'\\d+', '', text)  \n",
        "  return clean\n",
        "\n",
        "#remove multiple spaces\n",
        "def remove_multiple_spaces(text):\n",
        "  clean = re.sub(' +', ' ', text)  \n",
        "  return clean\n",
        "\n",
        "# remove single char\n",
        "def remove_single_char(text):\n",
        "  clean =  re.sub(r\"\\b[a-zA-Z]\\b\", \"\", text)  \n",
        "  return clean\n",
        "\n",
        "#Define function for removing special characters\n",
        "def remove_special_characters(text, remove_digits=True):\n",
        "    pattern=r'[^a-zA-z0-9\\s]'\n",
        "    text=re.sub(pattern,'',text)\n",
        "    return text  "
      ],
      "execution_count": 7,
      "outputs": []
    },
    {
      "cell_type": "code",
      "metadata": {
        "id": "IjU4zyfYmqgm",
        "colab_type": "code",
        "colab": {}
      },
      "source": [
        "## preprocess_text \n",
        "\n",
        "def preprocess_clean_text(text):\n",
        "  output1 = remove_html_tag(text)\n",
        "  output2 = remove_puct(output1)\n",
        "  output3 = remove_number(output2)\n",
        "  output4 = remove_multiple_spaces(output3)\n",
        "  output5 = remove_single_char(output4)\n",
        "  output_final = remove_special_characters(output5)\n",
        "\n",
        "  return output_final\n"
      ],
      "execution_count": 8,
      "outputs": []
    },
    {
      "cell_type": "code",
      "metadata": {
        "id": "PfuaXs9ElIFo",
        "colab_type": "code",
        "colab": {
          "base_uri": "https://localhost:8080/",
          "height": 73
        },
        "outputId": "e66d57c4-fbd4-4fc9-c6ea-bbc23c9b42ec"
      },
      "source": [
        "nltk.download('stopwords')\n",
        "stop=set(stopwords.words('english'))\n",
        "print(len(stop))"
      ],
      "execution_count": 9,
      "outputs": [
        {
          "output_type": "stream",
          "text": [
            "[nltk_data] Downloading package stopwords to /root/nltk_data...\n",
            "[nltk_data]   Package stopwords is already up-to-date!\n",
            "179\n"
          ],
          "name": "stdout"
        }
      ]
    },
    {
      "cell_type": "code",
      "metadata": {
        "id": "v_L5r3S1oOkI",
        "colab_type": "code",
        "colab": {}
      },
      "source": [
        "review = []\n",
        "sentenses = list(df['review'])\n",
        "for sent in sentenses:\n",
        "  review.append(preprocess_clean_text(sent))\n",
        "    "
      ],
      "execution_count": 10,
      "outputs": []
    },
    {
      "cell_type": "markdown",
      "metadata": {
        "id": "ePWVblzn9IBn",
        "colab_type": "text"
      },
      "source": [
        "## removing stopwords"
      ]
    },
    {
      "cell_type": "code",
      "metadata": {
        "id": "QPzruIdTkTGe",
        "colab_type": "code",
        "colab": {
          "base_uri": "https://localhost:8080/",
          "height": 224
        },
        "outputId": "408cf064-6ee2-48ec-8fd0-16942f82eabc"
      },
      "source": [
        "# cleaned data\n",
        "review[4]"
      ],
      "execution_count": 11,
      "outputs": [
        {
          "output_type": "execute_result",
          "data": {
            "application/vnd.google.colaboratory.intrinsic+json": {
              "type": "string"
            },
            "text/plain": [
              "'Petter Matteis Love in the Time of Money is  visually stunning film to watch Mr Mattei offers us  vivid portrait about human relations This is  movie that seems to be telling us what money power and success do to people in the different situations we encounter This being  variation on the Arthur Schnitzlers play about the same theme the director transfers the action to the present time New York where all these different characters meet and connect Each one is connected in one way or another to the next person but no one seems to know the previous point of contact Stylishly the film has  sophisticated luxurious look We are taken to see how these people live and the world they live in their own habitatThe only thing one gets out of all these souls in the picture is the different stages of loneliness each one inhabits  big city is not exactly the best place in which human relations find sincere fulfillment as one discerns is the case with most of the people we encounterThe acting is good under Mr Matteis direction Steve Buscemi Rosario Dawson Carol Kane Michael Imperioli Adrian Grenier and the rest of the talented cast make these characters come aliveWe wish Mr Mattei good luck and await anxiously for his next work'"
            ]
          },
          "metadata": {
            "tags": []
          },
          "execution_count": 11
        }
      ]
    },
    {
      "cell_type": "markdown",
      "metadata": {
        "id": "xafgaKPupQTT",
        "colab_type": "text"
      },
      "source": [
        "## converted sentiment column into number (1->>> positive &&& 0->>> negative)"
      ]
    },
    {
      "cell_type": "code",
      "metadata": {
        "id": "uPCJ0694pc4q",
        "colab_type": "code",
        "colab": {
          "base_uri": "https://localhost:8080/",
          "height": 36
        },
        "outputId": "c4fbcbcc-dfd0-497c-8686-2bd3a302c3e0"
      },
      "source": [
        "converted = df['sentiment']\n",
        "converted  = [ [1 if x == 'positive' else 0] for x in converted]\n",
        "\n",
        "converted = np.array(list(converted))\n",
        "\n",
        "\n",
        "print(converted.shape)"
      ],
      "execution_count": 11,
      "outputs": [
        {
          "output_type": "stream",
          "text": [
            "(50000, 1)\n"
          ],
          "name": "stdout"
        }
      ]
    },
    {
      "cell_type": "code",
      "metadata": {
        "id": "Uxl0uFcjtCA9",
        "colab_type": "code",
        "colab": {}
      },
      "source": [
        "#Tokenization of text\n",
        "tokenizer = ToktokTokenizer()"
      ],
      "execution_count": 13,
      "outputs": []
    },
    {
      "cell_type": "code",
      "metadata": {
        "id": "bNRXs_FNqtDv",
        "colab_type": "code",
        "colab": {}
      },
      "source": [
        "## remove stopwords\n",
        "\n",
        "def remove_stopwords(text, is_lower_case=False):\n",
        "    tokens = tokenizer.tokenize(text)\n",
        "    tokens = [token.strip() for token in tokens]\n",
        "    if is_lower_case:\n",
        "        filtered_tokens = [token for token in tokens if token not in stop]\n",
        "    else:\n",
        "        filtered_tokens = [token for token in tokens if token.lower() not in stop]\n",
        "    filtered_text = ' '.join(filtered_tokens)    \n",
        "    return filtered_text"
      ],
      "execution_count": 14,
      "outputs": []
    },
    {
      "cell_type": "code",
      "metadata": {
        "id": "dtJdk_Uvx-OB",
        "colab_type": "code",
        "colab": {}
      },
      "source": [
        "# tokenizer = Tokenizer(num_words=5000)\n",
        "review_new = []\n",
        "for sentencs in review:\n",
        "  review_new = remove_stopwords(sentencs)\n",
        "  \n",
        "\n",
        "\n",
        "\n",
        "# review_train = tokenizer.texts_to_sequences(review_train)\n",
        "# review_test = tokenizer.texts_to_sequences(review_test)"
      ],
      "execution_count": 15,
      "outputs": []
    },
    {
      "cell_type": "code",
      "metadata": {
        "id": "kV2ZfnDkukmr",
        "colab_type": "code",
        "colab": {
          "base_uri": "https://localhost:8080/",
          "height": 36
        },
        "outputId": "ce7231e9-ef73-4542-a4b3-079c0836d1d8"
      },
      "source": [
        "review_new[1]"
      ],
      "execution_count": 18,
      "outputs": [
        {
          "output_type": "execute_result",
          "data": {
            "application/vnd.google.colaboratory.intrinsic+json": {
              "type": "string"
            },
            "text/plain": [
              "'n'"
            ]
          },
          "metadata": {
            "tags": []
          },
          "execution_count": 18
        }
      ]
    },
    {
      "cell_type": "code",
      "metadata": {
        "id": "gmPw5l4RrPFE",
        "colab_type": "code",
        "colab": {
          "base_uri": "https://localhost:8080/",
          "height": 224
        },
        "outputId": "a2eb103c-9a78-422f-c736-2143f6869c53"
      },
      "source": [
        "## divide data into train and test\n",
        "review_train,review_test,train_label,test_label = train_test_split(review,converted,test_size = 0.20,random_state = 42)\n",
        "review_train[0]\n",
        "# train_label[0]\n"
      ],
      "execution_count": 12,
      "outputs": [
        {
          "output_type": "execute_result",
          "data": {
            "application/vnd.google.colaboratory.intrinsic+json": {
              "type": "string"
            },
            "text/plain": [
              "'Thats what  kept asking myself during the many fights screaming matches swearing and general mayhem that permeate the minutes The comparisons also stand up when you think of the onedimensional characters who have so little depth that it is virtually impossible to care what happens to them They are just badly written cyphers for the director to hang his multicultural beliefs on  topic that has been done much better in other dramas both on TV and the cinemaI must confess Im not really one for spotting bad performances during  film but it must be said that Nichola Burley as the heroines slutty best friend and Wasim Zakir as the nasty bullying brother were absolutely terrible  dont know what acting school they graduated from but if  was them Id apply for  full refund post haste Only Samina Awan in the lead role manages to impress in  cast of socalled British talent that well probably never hear from again At least thats the hope Next time hire  different scoutAnother intriguing thought is the hideously fashionable soundtrack featuring the likes of Snow Patrol Ian Brown and Keane Now Im  bit of  music fan and Im familiar with most of these artists output but  didnt recognise any of the tracks during this movie apart from the omnipresent Run Bsides anyone We get many many musical montages which telegraph how were suppose to feel These are accompanied by such startlingly original images as couples kissing by  swollen lake and canoodling in doorways This is  problem as none of the songs convey the mood efficiently and we realise the director lacks the ability to carry the emotional journey to the audience through storytelling and dialogue aloneThe ending is presumably meant to be just desserts as everybody gets their comeuppance and there is at least one big shock in store But  remained resolutely unmoved because the script had given me noone to root for Its not enough to tackle  hotbutton issue you have to actually give us  plot that hasnt already been done to death and individuals who are more than window dressing As it stands this film is  noble failure with only the promising lead actress and  few mildly diverting punchups to save it from the bin Must try harder'"
            ]
          },
          "metadata": {
            "tags": []
          },
          "execution_count": 12
        }
      ]
    },
    {
      "cell_type": "code",
      "metadata": {
        "id": "uiuyGG1srVCc",
        "colab_type": "code",
        "colab": {}
      },
      "source": [
        "print(\"train data is :\",len(review_train))\n",
        "print(\"train label is :\",len(train_label) )\n",
        "print(\"test data is :\",len(review_test))\n",
        "print(\"test dlabelta is :\",len(test_label))"
      ],
      "execution_count": null,
      "outputs": []
    },
    {
      "cell_type": "code",
      "metadata": {
        "id": "ftlg98uw5MAZ",
        "colab_type": "code",
        "colab": {}
      },
      "source": [
        "tokenizer = Tokenizer(num_words=5000)\n",
        "data = tokenizer.fit_on_texts(review_train)\n",
        "\n",
        "review_train = tokenizer.texts_to_sequences(review_train)\n",
        "review_test = tokenizer.texts_to_sequences(review_test)"
      ],
      "execution_count": 21,
      "outputs": []
    },
    {
      "cell_type": "code",
      "metadata": {
        "id": "VMbtqKyWyFNm",
        "colab_type": "code",
        "colab": {
          "base_uri": "https://localhost:8080/",
          "height": 56
        },
        "outputId": "3db968e3-f64b-4cb4-f95a-29e861f7ee37"
      },
      "source": [
        "print(review_train[0])\n"
      ],
      "execution_count": 22,
      "outputs": [
        {
          "output_type": "stream",
          "text": [
            "[174, 44, 753, 2034, 509, 289, 1, 102, 1853, 1935, 4168, 2, 794, 9, 1, 224, 1, 79, 861, 53, 49, 19, 99, 3, 1, 4130, 97, 33, 22, 35, 113, 1130, 9, 7, 5, 2256, 1144, 4, 440, 44, 531, 4, 92, 31, 20, 37, 910, 418, 13, 1, 171, 4, 2991, 21, 4264, 17, 2863, 9, 40, 71, 218, 69, 120, 6, 78, 3037, 188, 17, 236, 2, 1, 203, 4826, 140, 18, 59, 25, 13, 76, 348, 289, 16, 15, 7, 203, 23, 290, 9, 11, 1, 112, 432, 2, 11, 1, 1613, 615, 63, 404, 369, 86, 114, 44, 108, 371, 31, 32, 15, 42, 10, 92, 461, 13, 363, 1928, 57, 6, 1, 450, 213, 963, 4, 4069, 6, 175, 3, 3027, 665, 605, 9, 70, 230, 106, 801, 32, 168, 27, 210, 174, 1, 411, 358, 56, 3746, 265, 1640, 186, 5, 1, 706, 1817, 1, 1127, 3, 2928, 3684, 1788, 2, 150, 140, 221, 3, 204, 312, 2, 140, 1040, 12, 83, 3, 127, 2549, 15, 145, 95, 3, 1, 3942, 289, 8, 14, 997, 32, 1, 503, 241, 68, 72, 102, 102, 674, 58, 82, 63, 1291, 4, 223, 127, 20, 4169, 29, 132, 201, 1107, 11, 3548, 29, 2281, 2, 6, 8, 5, 426, 11, 621, 3, 1, 694, 2814, 1, 1230, 2, 68, 3425, 1, 171, 1415, 1, 1177, 4, 1525, 1, 830, 1204, 4, 1, 302, 137, 2466, 2, 397, 268, 5, 3426, 954, 4, 23, 37, 11, 1322, 202, 60, 2, 45, 5, 27, 210, 25, 189, 1483, 6, 1097, 15, 4650, 81, 1, 226, 64, 340, 66, 4495, 4, 3394, 13, 26, 18, 185, 4, 1753, 19, 22, 4, 148, 187, 166, 109, 9, 1526, 446, 71, 218, 4, 321, 2, 3156, 33, 20, 48, 67, 1830, 11, 7, 1302, 8, 16, 5, 3427, 2002, 12, 57, 1, 2351, 450, 517, 2, 162, 2467, 4, 555, 7, 32, 1, 3762, 203, 332, 3710]\n"
          ],
          "name": "stdout"
        }
      ]
    },
    {
      "cell_type": "code",
      "metadata": {
        "id": "ZiAtuedF0eQu",
        "colab_type": "code",
        "colab": {
          "base_uri": "https://localhost:8080/",
          "height": 1000
        },
        "outputId": "24783a35-5f71-4d80-e1d7-159824a90969"
      },
      "source": [
        "review_test[0]"
      ],
      "execution_count": null,
      "outputs": [
        {
          "output_type": "execute_result",
          "data": {
            "text/plain": [
              "[59,\n",
              " 402,\n",
              " 8,\n",
              " 662,\n",
              " 4,\n",
              " 1,\n",
              " 158,\n",
              " 3,\n",
              " 1,\n",
              " 1,\n",
              " 2,\n",
              " 37,\n",
              " 1,\n",
              " 158,\n",
              " 519,\n",
              " 10,\n",
              " 212,\n",
              " 4,\n",
              " 66,\n",
              " 13,\n",
              " 43,\n",
              " 278,\n",
              " 3966,\n",
              " 8,\n",
              " 90,\n",
              " 22,\n",
              " 71,\n",
              " 25,\n",
              " 3,\n",
              " 1,\n",
              " 112,\n",
              " 116,\n",
              " 42,\n",
              " 1,\n",
              " 145,\n",
              " 22,\n",
              " 6,\n",
              " 1,\n",
              " 263,\n",
              " 1578,\n",
              " 435,\n",
              " 150,\n",
              " 13,\n",
              " 26,\n",
              " 56,\n",
              " 7,\n",
              " 10,\n",
              " 592,\n",
              " 4,\n",
              " 22,\n",
              " 596,\n",
              " 1671,\n",
              " 128,\n",
              " 1417,\n",
              " 552,\n",
              " 128,\n",
              " 15,\n",
              " 140,\n",
              " 1202,\n",
              " 211,\n",
              " 22,\n",
              " 1142,\n",
              " 7,\n",
              " 10,\n",
              " 369,\n",
              " 263,\n",
              " 1578,\n",
              " 37,\n",
              " 34,\n",
              " 164,\n",
              " 1021,\n",
              " 5,\n",
              " 6,\n",
              " 5,\n",
              " 369,\n",
              " 78,\n",
              " 4168,\n",
              " 17,\n",
              " 1,\n",
              " 3506,\n",
              " 63,\n",
              " 1417,\n",
              " 2739,\n",
              " 978,\n",
              " 1417,\n",
              " 2149,\n",
              " 1417,\n",
              " 8,\n",
              " 10,\n",
              " 1,\n",
              " 1578,\n",
              " 110,\n",
              " 744,\n",
              " 21,\n",
              " 189,\n",
              " 797,\n",
              " 3,\n",
              " 644,\n",
              " 2912,\n",
              " 1417,\n",
              " 525,\n",
              " 4388,\n",
              " 85,\n",
              " 288,\n",
              " 17,\n",
              " 89,\n",
              " 288,\n",
              " 17,\n",
              " 1668,\n",
              " 2,\n",
              " 518,\n",
              " 12,\n",
              " 1,\n",
              " 2,\n",
              " 10,\n",
              " 200,\n",
              " 47,\n",
              " 212,\n",
              " 89,\n",
              " 2538,\n",
              " 4877,\n",
              " 524,\n",
              " 17,\n",
              " 1234,\n",
              " 6,\n",
              " 157,\n",
              " 369,\n",
              " 1021,\n",
              " 1,\n",
              " 3545,\n",
              " 2,\n",
              " 524,\n",
              " 17,\n",
              " 2,\n",
              " 1,\n",
              " 2,\n",
              " 1,\n",
              " 183,\n",
              " 427,\n",
              " 435,\n",
              " 8,\n",
              " 1021,\n",
              " 10,\n",
              " 336,\n",
              " 2,\n",
              " 7,\n",
              " 40,\n",
              " 369,\n",
              " 268,\n",
              " 194,\n",
              " 7,\n",
              " 958]"
            ]
          },
          "metadata": {
            "tags": []
          },
          "execution_count": 27
        }
      ]
    },
    {
      "cell_type": "code",
      "metadata": {
        "id": "IZcIVXX-5oCS",
        "colab_type": "code",
        "colab": {
          "base_uri": "https://localhost:8080/",
          "height": 36
        },
        "outputId": "5fe19d93-ca00-4c13-e9db-c69e58f484b0"
      },
      "source": [
        "## length vocab_size\n",
        "\n",
        "vocab_size = len(tokenizer.word_index)+1\n",
        "max_len = 120\n",
        "print(vocab_size)"
      ],
      "execution_count": null,
      "outputs": [
        {
          "output_type": "stream",
          "text": [
            "187365\n"
          ],
          "name": "stdout"
        }
      ]
    },
    {
      "cell_type": "code",
      "metadata": {
        "id": "xbVZUY2S6mUQ",
        "colab_type": "code",
        "colab": {}
      },
      "source": [
        "review_train = pad_sequences(review_train , maxlen=max_len,padding='post')\n",
        "review_test  = pad_sequences(review_test , maxlen=max_len,padding='post')"
      ],
      "execution_count": null,
      "outputs": []
    },
    {
      "cell_type": "code",
      "metadata": {
        "id": "_Lpex3fm4bjb",
        "colab_type": "code",
        "colab": {
          "base_uri": "https://localhost:8080/",
          "height": 242
        },
        "outputId": "76495b8c-938d-4784-d8ae-c19f492a5a9b"
      },
      "source": [
        "review_test[4]"
      ],
      "execution_count": null,
      "outputs": [
        {
          "output_type": "execute_result",
          "data": {
            "text/plain": [
              "array([  23, 1456,   13,   38,    6,   38,   85,  124,   12, 1263,    5,\n",
              "         34,  142, 1398,  251,    4,   23,   44,  803,    5,  415,    4,\n",
              "         23,  907,    2,  201,    6,    8,  252,  257,  121,   11, 2467,\n",
              "        151,   66,   99,    9,    8,   14,    5,  632,  269,   17,  157,\n",
              "       1262,  297,    1,  760, 1427,   44,   37,  199,   98,  516, 1033,\n",
              "         86,   99,    7,   10,   69,    0,    0,    0,    0,    0,    0,\n",
              "          0,    0,    0,    0,    0,    0,    0,    0,    0,    0,    0,\n",
              "          0,    0,    0,    0,    0,    0,    0,    0,    0,    0,    0,\n",
              "          0,    0,    0,    0,    0,    0,    0,    0,    0,    0,    0,\n",
              "          0,    0,    0,    0,    0,    0,    0,    0,    0,    0,    0,\n",
              "          0,    0,    0,    0,    0,    0,    0,    0,    0,    0],\n",
              "      dtype=int32)"
            ]
          },
          "metadata": {
            "tags": []
          },
          "execution_count": 43
        }
      ]
    },
    {
      "cell_type": "markdown",
      "metadata": {
        "id": "LqllscbL7g4N",
        "colab_type": "text"
      },
      "source": [
        "## remove stop words"
      ]
    }
  ]
}